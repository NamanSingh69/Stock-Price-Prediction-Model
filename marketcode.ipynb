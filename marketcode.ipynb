{
 "cells": [
  {
   "cell_type": "markdown",
   "metadata": {},
   "source": [
    "# 1)Import Libraries"
   ]
  },
  {
   "cell_type": "code",
   "execution_count": 1,
   "metadata": {},
   "outputs": [],
   "source": [
    "import pandas as pd\n",
    "import numpy as np\n",
    "import logging\n",
    "import shap\n",
    "import matplotlib.pyplot as plt\n",
    "import joblib\n",
    "import warnings\n",
    "from scipy import stats\n",
    "from sklearn.model_selection import TimeSeriesSplit, train_test_split, GridSearchCV\n",
    "from sklearn.preprocessing import StandardScaler, LabelEncoder\n",
    "from sklearn.pipeline import Pipeline\n",
    "from sklearn.ensemble import RandomForestRegressor\n",
    "from sklearn.metrics import mean_absolute_percentage_error, mean_squared_error, r2_score\n",
    "from sklearn.feature_selection import SelectKBest, f_regression"
   ]
  },
  {
   "cell_type": "markdown",
   "metadata": {},
   "source": [
    "# 2)Load and Clean Data"
   ]
  },
  {
   "cell_type": "code",
   "execution_count": 2,
   "metadata": {},
   "outputs": [
    {
     "name": "stdout",
     "output_type": "stream",
     "text": [
      "Initial data shape: (2972, 48)\n"
     ]
    }
   ],
   "source": [
    "# Read the data\n",
    "df = pd.read_csv('Data/stockdata.csv')\n",
    "print(f\"Initial data shape: {df.shape}\")\n",
    "\n",
    "# Store original data for future predictions\n",
    "current_data = df.copy()\n",
    "\n",
    "# Encode categorical variables\n",
    "categorical_columns = ['PE Expanding', 'Book Value Expanding', 'Reducing Debt', \n",
    "                      'Increasing Margin', 'Valuation', 'Bu Model', \n",
    "                      'Growth', 'Financial Health ', 'Ownership']\n",
    "\n",
    "# Replace 'N' with 0 for binary columns\n",
    "binary_columns = ['PE Expanding', 'Book Value Expanding', 'Reducing Debt', 'Increasing Margin']\n",
    "for col in binary_columns:\n",
    "    df[col] = df[col].map({'Y': 1, 'N': 0})\n",
    "    current_data[col] = current_data[col].map({'Y': 1, 'N': 0})\n",
    "\n",
    "# Replace 'N' with 0 for metric columns\n",
    "metric_columns = ['Valuation', 'B Model', 'Growth', 'Financial Health ', 'Ownership']\n",
    "for col in metric_columns:\n",
    "    df[col] = pd.to_numeric(df[col].replace('N', '0'))\n",
    "    current_data[col] = pd.to_numeric(current_data[col].replace('N', '0'))\n",
    "\n",
    "# Store company names for later use\n",
    "company_names = current_data['Name'].copy()"
   ]
  },
  {
   "cell_type": "markdown",
   "metadata": {},
   "source": [
    "# 3)Feature Engineering"
   ]
  },
  {
   "cell_type": "code",
   "execution_count": 3,
   "metadata": {},
   "outputs": [
    {
     "name": "stdout",
     "output_type": "stream",
     "text": [
      "Number of features: 46\n"
     ]
    }
   ],
   "source": [
    "# Identify numeric columns (excluding 'Name' and target variable)\n",
    "numeric_columns = df.select_dtypes(include=[np.number]).columns.tolist()\n",
    "numeric_columns.remove('Return over 1year')  # Remove target variable\n",
    "print(f\"Number of features: {len(numeric_columns)}\")\n",
    "\n",
    "# Handle missing values\n",
    "df[numeric_columns] = df[numeric_columns].fillna(df[numeric_columns].median())\n",
    "current_data[numeric_columns] = current_data[numeric_columns].fillna(df[numeric_columns].median())\n",
    "\n",
    "# Fit scaler on all historical data\n",
    "scaler = StandardScaler()\n",
    "scaler.fit(df[numeric_columns])\n",
    "\n",
    "# Transform both historical and current data\n",
    "df[numeric_columns] = scaler.transform(df[numeric_columns])\n",
    "current_data[numeric_columns] = scaler.transform(current_data[numeric_columns])"
   ]
  },
  {
   "cell_type": "markdown",
   "metadata": {},
   "source": [
    "# 4)Prepare Target Variable"
   ]
  },
  {
   "cell_type": "code",
   "execution_count": 4,
   "metadata": {},
   "outputs": [
    {
     "name": "stdout",
     "output_type": "stream",
     "text": [
      "Final shape after target preparation: (2688, 50)\n",
      "Selected features shape: (2688, 46)\n"
     ]
    }
   ],
   "source": [
    "\n",
    "# Convert target variable\n",
    "target_variable = 'Return over 1year'\n",
    "\n",
    "# Remove extreme returns\n",
    "df = df[df[target_variable] > -100]\n",
    "\n",
    "# Convert to decimal\n",
    "df['Return_decimal'] = df[target_variable] / 100\n",
    "\n",
    "# Apply log transformation\n",
    "df['Target'] = np.log1p(df['Return_decimal'])\n",
    "\n",
    "# Remove any infinities or NaNs\n",
    "df = df.replace([np.inf, -np.inf], np.nan).dropna(subset=['Target'])\n",
    "print(f\"Final shape after target preparation: {df.shape}\")\n",
    "\n",
    "# Cell 5: Feature Selection\n",
    "X = df[numeric_columns]\n",
    "y = df['Target']\n",
    "\n",
    "# Select all features\n",
    "selector = SelectKBest(score_func=f_regression, k='all')\n",
    "selector.fit(X, y)  # Fit on all historical data\n",
    "selected_features = X.columns[selector.get_support()].tolist()\n",
    "\n",
    "# Transform both historical and current data\n",
    "X = pd.DataFrame(selector.transform(X), columns=selected_features, index=X.index)\n",
    "X_current = pd.DataFrame(selector.transform(current_data[numeric_columns]), \n",
    "                        columns=selected_features, \n",
    "                        index=current_data.index)\n",
    "\n",
    "print(f\"Selected features shape: {X.shape}\")"
   ]
  },
  {
   "cell_type": "markdown",
   "metadata": {},
   "source": [
    "# 5)Split Data"
   ]
  },
  {
   "cell_type": "code",
   "execution_count": 5,
   "metadata": {},
   "outputs": [
    {
     "name": "stdout",
     "output_type": "stream",
     "text": [
      "Training set shape: (2150, 46)\n",
      "Testing set shape: (538, 46)\n"
     ]
    }
   ],
   "source": [
    "# Use TimeSeriesSplit to maintain temporal order\n",
    "tscv = TimeSeriesSplit(n_splits=3)\n",
    "X_train, X_test, y_train, y_test = train_test_split(X, y, test_size=0.2, shuffle=False)\n",
    "print(f\"Training set shape: {X_train.shape}\")\n",
    "print(f\"Testing set shape: {X_test.shape}\")"
   ]
  },
  {
   "cell_type": "markdown",
   "metadata": {},
   "source": [
    "# 6)Train Random Forest Model with GridSearchCV"
   ]
  },
  {
   "cell_type": "code",
   "execution_count": 6,
   "metadata": {},
   "outputs": [
    {
     "name": "stdout",
     "output_type": "stream",
     "text": [
      "Starting GridSearchCV with updated parameters\n",
      "Fitting 3 folds for each of 720 candidates, totalling 2160 fits\n",
      "\n",
      "Grid Search Results:\n",
      "Best parameters: {'max_depth': None, 'max_features': 'sqrt', 'min_samples_leaf': 1, 'min_samples_split': 2, 'n_estimators': 200}\n",
      "Best score: 0.2288 MSE\n",
      "\n",
      "Top 5 parameter combinations:\n",
      "                                               params  mean_test_score  \\\n",
      "1   {'max_depth': None, 'max_features': 'sqrt', 'm...        -0.228841   \n",
      "24  {'max_depth': None, 'max_features': 'sqrt', 'm...        -0.229396   \n",
      "29  {'max_depth': None, 'max_features': 'sqrt', 'm...        -0.229396   \n",
      "2   {'max_depth': None, 'max_features': 'sqrt', 'm...        -0.229559   \n",
      "23  {'max_depth': None, 'max_features': 'sqrt', 'm...        -0.229824   \n",
      "\n",
      "    std_test_score  \n",
      "1         0.044948  \n",
      "24        0.045774  \n",
      "29        0.045774  \n",
      "2         0.045040  \n",
      "23        0.046000  \n",
      "\n",
      "Model saved as 'RandomForest_model.pkl'\n"
     ]
    }
   ],
   "source": [
    "# Define parameter grid (adjusted for GridSearchCV)\n",
    "param_grid = {\n",
    "    'n_estimators': [100, 200, 300, 400, 500],\n",
    "    'max_depth': [None, 5, 7, 9, 11, 13],\n",
    "    'min_samples_split': [2, 4, 6, 8],\n",
    "    'min_samples_leaf': [1, 2, 4],\n",
    "    'max_features': ['sqrt', 'log2'] \n",
    "}\n",
    "\n",
    "# Create base model\n",
    "rf = RandomForestRegressor(random_state=42)\n",
    "\n",
    "# Create GridSearchCV object with updated param_grid\n",
    "grid_search = GridSearchCV(\n",
    "    estimator=rf,\n",
    "    param_grid=param_grid,\n",
    "    cv=tscv,\n",
    "    n_jobs=-1,\n",
    "    verbose=2,\n",
    "    scoring='neg_mean_squared_error'\n",
    ")\n",
    "\n",
    "# Fit on all historical data\n",
    "print(\"Starting GridSearchCV with updated parameters\")\n",
    "grid_search.fit(X, y)\n",
    "best_rf = grid_search.best_estimator_\n",
    "\n",
    "# Print Grid Search results\n",
    "print(\"\\nGrid Search Results:\")\n",
    "print(f\"Best parameters: {grid_search.best_params_}\")\n",
    "print(f\"Best score: {-grid_search.best_score_:.4f} MSE\")\n",
    "\n",
    "# Get CV results\n",
    "cv_results = pd.DataFrame(grid_search.cv_results_)\n",
    "cv_results = cv_results.sort_values('rank_test_score')\n",
    "\n",
    "# Print top 5 parameter combinations\n",
    "print(\"\\nTop 5 parameter combinations:\")\n",
    "print(cv_results[['params', 'mean_test_score', 'std_test_score']].head())\n",
    "\n",
    "# Save the model\n",
    "joblib.dump(best_rf, 'RandomForest_model.pkl')\n",
    "print(\"\\nModel saved as 'RandomForest_model.pkl'\")"
   ]
  },
  {
   "cell_type": "markdown",
   "metadata": {},
   "source": [
    "# 7) Evaluate Model"
   ]
  },
  {
   "cell_type": "code",
   "execution_count": 7,
   "metadata": {},
   "outputs": [
    {
     "name": "stdout",
     "output_type": "stream",
     "text": [
      "\n",
      "Model Performance:\n",
      "MAPE: 78.01%\n",
      "RMSE: 0.2152\n",
      "R2 Score: 0.9009\n"
     ]
    }
   ],
   "source": [
    "y_pred = best_rf.predict(X_test)\n",
    "mape = mean_absolute_percentage_error(y_test, y_pred) * 100\n",
    "rmse = np.sqrt(mean_squared_error(y_test, y_pred))\n",
    "r2 = r2_score(y_test, y_pred)\n",
    "print(f\"\\nModel Performance:\")\n",
    "print(f\"MAPE: {mape:.2f}%\")\n",
    "print(f\"RMSE: {rmse:.4f}\")\n",
    "print(f\"R2 Score: {r2:.4f}\")"
   ]
  },
  {
   "cell_type": "markdown",
   "metadata": {},
   "source": [
    "# 8)Generate SHAP Values and Feature Importance"
   ]
  },
  {
   "cell_type": "code",
   "execution_count": 8,
   "metadata": {},
   "outputs": [],
   "source": [
    "# SHAP Values\n",
    "explainer = shap.Explainer(best_rf)\n",
    "shap_values = explainer(X_train)\n",
    "\n",
    "plt.figure(figsize=(12, 8))\n",
    "shap.summary_plot(shap_values, X_train, plot_type='bar', show=False)\n",
    "plt.title('SHAP Feature Importance')\n",
    "plt.tight_layout()\n",
    "plt.savefig('shap_summary_bar.png', bbox_inches='tight', dpi=300)\n",
    "plt.close()\n",
    "\n",
    "# Random Forest Feature Importance\n",
    "feature_importance = pd.DataFrame({\n",
    "    'feature': selected_features,\n",
    "    'importance': best_rf.feature_importances_\n",
    "})\n",
    "feature_importance = feature_importance.sort_values('importance', ascending=False)\n",
    "\n",
    "plt.figure(figsize=(12, 8))\n",
    "plt.bar(range(len(feature_importance)), feature_importance['importance'])\n",
    "plt.xticks(range(len(feature_importance)), feature_importance['feature'], rotation=45, ha='right')\n",
    "plt.title('Random Forest Feature Importance')\n",
    "plt.tight_layout()\n",
    "plt.savefig('rf_feature_importance.png', bbox_inches='tight', dpi=300)\n",
    "plt.close()"
   ]
  },
  {
   "cell_type": "markdown",
   "metadata": {},
   "source": [
    "# 9) Predict Future Returns"
   ]
  },
  {
   "cell_type": "code",
   "execution_count": null,
   "metadata": {},
   "outputs": [],
   "source": [
    "# Make predictions using current data\n",
    "future_predictions = best_rf.predict(X_current)\n",
    "\n",
    "# Create results DataFrame\n",
    "results_df = pd.DataFrame({\n",
    "    'Company_Name': company_names,\n",
    "    'Predicted_Future_Return': np.expm1(future_predictions) * 100  # Convert back to percentage\n",
    "})\n",
    "\n",
    "# Add prediction intervals using out-of-bag estimation\n",
    "predictions = np.array([tree.predict(X_current) for tree in best_rf.estimators_])\n",
    "prediction_std = np.std(predictions, axis=0)\n",
    "\n",
    "# Calculate confidence intervals (95%)\n",
    "results_df['Prediction_Std'] = prediction_std\n",
    "results_df['Lower_Bound'] = np.expm1(future_predictions - 1.96 * prediction_std) * 100\n",
    "results_df['Upper_Bound'] = np.expm1(future_predictions + 1.96 * prediction_std) * 100\n",
    "\n",
    "# Add feature importance for each prediction\n",
    "top_features = feature_importance['feature'].head(5).tolist()\n",
    "for feat in top_features:\n",
    "    results_df[f'Feature_{feat}'] = current_data[feat]\n",
    "\n",
    "# Sort by predicted return\n",
    "results_df = results_df.sort_values('Predicted_Future_Return', ascending=False)\n",
    "\n",
    "# Save detailed results\n",
    "results_df.to_csv('predicted_future_returns.csv', index=False)\n",
    "print(\"\\nFuture predictions saved to 'predicted_future_returns.csv'\")\n",
    "\n",
    "# Create summary statistics\n",
    "summary_stats = pd.DataFrame({\n",
    "    'Metric': ['Mean Predicted Return', 'Median Predicted Return', \n",
    "               'Std Dev of Predictions', 'Min Predicted Return', \n",
    "               'Max Predicted Return'],\n",
    "    'Value': [\n",
    "        results_df['Predicted_Future_Return'].mean(),\n",
    "        results_df['Predicted_Future_Return'].median(),\n",
    "        results_df['Predicted_Future_Return'].std(),\n",
    "        results_df['Predicted_Future_Return'].min(),\n",
    "        results_df['Predicted_Future_Return'].max()\n",
    "    ]\n",
    "})\n",
    "\n",
    "# Save summary statistics\n",
    "summary_stats.to_csv('prediction_summary_stats.csv', index=False)\n",
    "print(\"Summary statistics saved to 'prediction_summary_stats.csv'\")"
   ]
  }
 ],
 "metadata": {
  "kernelspec": {
   "display_name": "Python 3",
   "language": "python",
   "name": "python3"
  },
  "language_info": {
   "codemirror_mode": {
    "name": "ipython",
    "version": 3
   },
   "file_extension": ".py",
   "mimetype": "text/x-python",
   "name": "python",
   "nbconvert_exporter": "python",
   "pygments_lexer": "ipython3",
   "version": "3.11.9"
  }
 },
 "nbformat": 4,
 "nbformat_minor": 2
}
